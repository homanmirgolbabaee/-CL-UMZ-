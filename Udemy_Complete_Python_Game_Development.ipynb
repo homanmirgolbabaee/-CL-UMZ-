{
  "nbformat": 4,
  "nbformat_minor": 0,
  "metadata": {
    "colab": {
      "name": "Udemy Complete Python Game Development.ipynb",
      "provenance": [],
      "collapsed_sections": [],
      "authorship_tag": "ABX9TyPHb8eNl7/52pMgxX2IL4KA",
      "include_colab_link": true
    },
    "kernelspec": {
      "name": "python3",
      "display_name": "Python 3"
    },
    "language_info": {
      "name": "python"
    }
  },
  "cells": [
    {
      "cell_type": "markdown",
      "metadata": {
        "id": "view-in-github",
        "colab_type": "text"
      },
      "source": [
        "<a href=\"https://colab.research.google.com/github/homanmirgolbabaee/-CL-UMZ-/blob/main/Udemy_Complete_Python_Game_Development.ipynb\" target=\"_parent\"><img src=\"https://colab.research.google.com/assets/colab-badge.svg\" alt=\"Open In Colab\"/></a>"
      ]
    },
    {
      "cell_type": "code",
      "execution_count": null,
      "metadata": {
        "id": "vHFB1SLgcLIa"
      },
      "outputs": [],
      "source": [
        "#SECTION 2"
      ]
    },
    {
      "cell_type": "code",
      "source": [
        "def path(v,t):\n",
        "  print(v+t)\n",
        "S = path(5,10)"
      ],
      "metadata": {
        "colab": {
          "base_uri": "https://localhost:8080/"
        },
        "id": "VrHgI_JxcWHV",
        "outputId": "f33feb8a-9715-478e-8a0f-602522434579"
      },
      "execution_count": null,
      "outputs": [
        {
          "output_type": "stream",
          "name": "stdout",
          "text": [
            "15\n"
          ]
        }
      ]
    },
    {
      "cell_type": "code",
      "source": [
        "try:\n",
        "  items = int(input('number:'))\n",
        "  print(items)\n",
        "  division_to = int(input('number:'))\n",
        "  print(items/division_to)\n",
        "except ValueError:\n",
        "  print(\"Invalid Input Run Again !\")\n",
        "except ZeroDivisionError:\n",
        "  print(\"Division over 0 is an unsolved mystery\")"
      ],
      "metadata": {
        "id": "X63bd27_jR3u",
        "colab": {
          "base_uri": "https://localhost:8080/"
        },
        "outputId": "394abd17-96bf-445a-b92d-c7b40aa738fa"
      },
      "execution_count": 5,
      "outputs": [
        {
          "output_type": "stream",
          "name": "stdout",
          "text": [
            "number:20\n",
            "20\n",
            "number:0\n",
            "Division over 0 is an unsolved mystery\n"
          ]
        }
      ]
    },
    {
      "cell_type": "code",
      "source": [
        "class animal:\n",
        "  def run(self):\n",
        "    print(\"Running ...\")\n",
        "  def eat(self):\n",
        "    print(\"Eating ...\")\n",
        "  "
      ],
      "metadata": {
        "id": "NHwTHqvjCRR6"
      },
      "execution_count": null,
      "outputs": []
    }
  ]
}